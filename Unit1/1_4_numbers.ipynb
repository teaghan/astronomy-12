{
 "cells": [
  {
   "cell_type": "markdown",
   "id": "57daf276",
   "metadata": {},
   "source": [
    "# 1.4 Numbers in Astronomy"
   ]
  }
 ],
 "metadata": {},
 "nbformat": 4,
 "nbformat_minor": 5
}
