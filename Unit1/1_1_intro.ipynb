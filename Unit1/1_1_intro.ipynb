{
 "cells": [
  {
   "cell_type": "markdown",
   "id": "34b08ce4-8bc1-49c7-9bfb-d274ec68316b",
   "metadata": {},
   "source": [
    "# 1.1 Introduction to Astronomy\n",
    "\n",
    "Imagine looking up at the night sky thousands of years ago, without the light pollution of modern cities. The stars would be a dazzling spectacle, a cosmic mystery waiting to be unraveled. This lesson will take you on a journey through time, exploring how humanity has sought to understand the universe, from ancient stargazers to modern astronomers. Join us as we discover the fascinating story of astronomy—a tale of curiosity, ingenuity, and the relentless pursuit of knowledge.\n",
    "\n",
    "<div class=\"alert alert-info\">\n",
    "  <h4>Video</h4>\n",
    "  <p>Watch <a href=\"https://youtu.be/0rHUDWjR5gg?si=NJL_XCQq9rRs723c\">this video</a> for an excellent introduction to the study of Astronomy. Importantly, the video includes a discussion on the various careers related to astronomy.</p>\n",
    "</div>\n",
    "\n",
    "\n",
    "<div class=\"alert alert-info\">\n",
    "  <h4>Video</h4>\n",
    "  <p>Watch <a href=\"https://youtu.be/L-Wtlev6suc?si=sp3lg4u9if-NWjJV\">this video</a> for a discussion on observations and light polution.</p>\n",
    "</div>"
   ]
  }
 ],
 "metadata": {
  "kernelspec": {
   "display_name": "Python 3 (ipykernel)",
   "language": "python",
   "name": "python3"
  },
  "language_info": {
   "codemirror_mode": {
    "name": "ipython",
    "version": 3
   },
   "file_extension": ".py",
   "mimetype": "text/x-python",
   "name": "python",
   "nbconvert_exporter": "python",
   "pygments_lexer": "ipython3",
   "version": "3.11.8"
  }
 },
 "nbformat": 4,
 "nbformat_minor": 5
}
