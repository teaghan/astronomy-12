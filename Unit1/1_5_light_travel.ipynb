{
 "cells": [
  {
   "cell_type": "markdown",
   "id": "9c3012c9",
   "metadata": {},
   "source": [
    "# 1.5 Consequences of Light Travel Time"
   ]
  }
 ],
 "metadata": {},
 "nbformat": 4,
 "nbformat_minor": 5
}
