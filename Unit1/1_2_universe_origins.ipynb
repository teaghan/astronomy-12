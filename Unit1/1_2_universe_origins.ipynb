{
 "cells": [
  {
   "cell_type": "markdown",
   "id": "6e4d7621",
   "metadata": {},
   "source": [
    "# 1.2 The Universe and its Origins"
   ]
  }
 ],
 "metadata": {},
 "nbformat": 4,
 "nbformat_minor": 5
}
