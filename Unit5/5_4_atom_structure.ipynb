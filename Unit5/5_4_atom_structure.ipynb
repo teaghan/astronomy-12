{
 "cells": [
  {
   "cell_type": "markdown",
   "id": "e725cf4f",
   "metadata": {},
   "source": [
    "# 5.4 The Structure of the Atom"
   ]
  }
 ],
 "metadata": {},
 "nbformat": 4,
 "nbformat_minor": 5
}
