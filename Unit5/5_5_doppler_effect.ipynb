{
 "cells": [
  {
   "cell_type": "markdown",
   "id": "fee859aa",
   "metadata": {},
   "source": [
    "# 5.5 The Doppler Effect in Astronomy"
   ]
  }
 ],
 "metadata": {},
 "nbformat": 4,
 "nbformat_minor": 5
}
