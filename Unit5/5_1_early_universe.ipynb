{
 "cells": [
  {
   "cell_type": "markdown",
   "id": "68ed6ecd",
   "metadata": {},
   "source": [
    "# 5.1 The Big Bang and the Early Universe\n",
    "\n",
    "https://www.youtube.com/watch?v=0L_MvPLspdg\n",
    "\n",
    "Ignore the mentioning of the HEisenberg uncertainty principle!"
   ]
  }
 ],
 "metadata": {
  "kernelspec": {
   "display_name": "Python 3 (ipykernel)",
   "language": "python",
   "name": "python3"
  },
  "language_info": {
   "codemirror_mode": {
    "name": "ipython",
    "version": 3
   },
   "file_extension": ".py",
   "mimetype": "text/x-python",
   "name": "python",
   "nbconvert_exporter": "python",
   "pygments_lexer": "ipython3",
   "version": "3.11.9"
  }
 },
 "nbformat": 4,
 "nbformat_minor": 5
}
