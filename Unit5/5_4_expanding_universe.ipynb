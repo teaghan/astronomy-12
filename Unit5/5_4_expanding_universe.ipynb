{
 "cells": [
  {
   "cell_type": "markdown",
   "id": "2fb6f665",
   "metadata": {},
   "source": [
    "# 6.4 The Expanding Universe"
   ]
  }
 ],
 "metadata": {},
 "nbformat": 4,
 "nbformat_minor": 5
}
