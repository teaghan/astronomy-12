{
 "cells": [
  {
   "cell_type": "markdown",
   "id": "8a59a888",
   "metadata": {},
   "source": [
    "# 6.3 Future of the Universe"
   ]
  }
 ],
 "metadata": {},
 "nbformat": 4,
 "nbformat_minor": 5
}
