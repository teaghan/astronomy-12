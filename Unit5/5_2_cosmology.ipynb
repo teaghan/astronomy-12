{
 "cells": [
  {
   "cell_type": "markdown",
   "id": "faace247",
   "metadata": {},
   "source": [
    "# 5.2 Cosmology\n",
    "\n",
    "<iframe\n",
    "  src=\"https://modern-classroom.streamlit.app/insta_lesson?embed=true\"\n",
    "  style=\"height: 450px; width: 100%;\"\n",
    "></iframe>\n",
    "\n",
    "<iframe\n",
    "  src=\"https://www.playlab.ai/project/cm9kksx8l0015r3ihuq0no5ia\"\n",
    "  style=\"height: 450px; width: 100%;\"\n",
    "></iframe>"
   ]
  },
  {
   "cell_type": "code",
   "execution_count": null,
   "id": "49c649b3-84ea-4be7-bdfd-0bec5ba9e4a4",
   "metadata": {},
   "outputs": [],
   "source": [
    "\n",
    "\n"
   ]
  }
 ],
 "metadata": {
  "kernelspec": {
   "display_name": "Python 3 (ipykernel)",
   "language": "python",
   "name": "python3"
  },
  "language_info": {
   "codemirror_mode": {
    "name": "ipython",
    "version": 3
   },
   "file_extension": ".py",
   "mimetype": "text/x-python",
   "name": "python",
   "nbconvert_exporter": "python",
   "pygments_lexer": "ipython3",
   "version": "3.11.9"
  }
 },
 "nbformat": 4,
 "nbformat_minor": 5
}
