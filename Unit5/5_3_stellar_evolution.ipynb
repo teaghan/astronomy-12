{
 "cells": [
  {
   "cell_type": "markdown",
   "id": "da126db1",
   "metadata": {},
   "source": [
    "# 5.3 Stellar Evolution"
   ]
  }
 ],
 "metadata": {},
 "nbformat": 4,
 "nbformat_minor": 5
}
