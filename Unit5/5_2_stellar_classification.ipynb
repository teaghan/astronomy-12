{
 "cells": [
  {
   "cell_type": "markdown",
   "id": "067fb7f9",
   "metadata": {},
   "source": [
    "# 5.2 Stellar Classification"
   ]
  }
 ],
 "metadata": {},
 "nbformat": 4,
 "nbformat_minor": 5
}
