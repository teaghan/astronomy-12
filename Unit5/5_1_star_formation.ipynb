{
 "cells": [
  {
   "cell_type": "markdown",
   "id": "2faa2e0e",
   "metadata": {},
   "source": [
    "# 5.1 Star Formation"
   ]
  }
 ],
 "metadata": {},
 "nbformat": 4,
 "nbformat_minor": 5
}
