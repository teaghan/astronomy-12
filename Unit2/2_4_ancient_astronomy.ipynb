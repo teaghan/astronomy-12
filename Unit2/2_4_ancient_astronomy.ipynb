{
 "cells": [
  {
   "cell_type": "markdown",
   "id": "86028afa",
   "metadata": {},
   "source": [
    "# 2.4 Ancient Astronomy"
   ]
  }
 ],
 "metadata": {},
 "nbformat": 4,
 "nbformat_minor": 5
}
