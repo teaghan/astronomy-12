{
 "cells": [
  {
   "cell_type": "markdown",
   "id": "349e52d2",
   "metadata": {},
   "source": [
    "# 2.1 Newton's Laws of Motion"
   ]
  }
 ],
 "metadata": {},
 "nbformat": 4,
 "nbformat_minor": 5
}
