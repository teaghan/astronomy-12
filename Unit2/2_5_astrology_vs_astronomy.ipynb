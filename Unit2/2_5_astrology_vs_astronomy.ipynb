{
 "cells": [
  {
   "cell_type": "markdown",
   "id": "4fb8a5c3",
   "metadata": {},
   "source": [
    "# 2.5 Astrology vs. Astronomy"
   ]
  }
 ],
 "metadata": {},
 "nbformat": 4,
 "nbformat_minor": 5
}
