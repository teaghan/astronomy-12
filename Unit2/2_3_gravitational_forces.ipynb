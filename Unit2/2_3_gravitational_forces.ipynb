{
 "cells": [
  {
   "cell_type": "markdown",
   "id": "30316d79",
   "metadata": {},
   "source": [
    "# 2.3 Gravitational Forces"
   ]
  }
 ],
 "metadata": {},
 "nbformat": 4,
 "nbformat_minor": 5
}
