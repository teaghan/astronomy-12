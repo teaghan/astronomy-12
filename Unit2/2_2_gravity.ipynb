{
 "cells": [
  {
   "cell_type": "markdown",
   "id": "349e52d2",
   "metadata": {},
   "source": [
    "# 2.1 Newton's Law of Universal Gravitation\n",
    "\n",
    "## Topics to cover\n",
    "\n",
    "1. **Historical Context and Development:**\n",
    "   - Isaac Newton's biography and his contributions to science.\n",
    "   - The historical development of gravitational theory.\n",
    "   - How Newton's ideas built upon those of previous scientists such as Galileo and Kepler.\n",
    "   - Newton's second law formulation\n",
    "\n",
    "2. **Conceptual Foundations:**\n",
    "   - Explanation of gravity as a universal force.\n",
    "   - The significance of Newton's realization that the same force that causes objects to fall on Earth also governs the motion of celestial bodies.\n",
    "\n",
    "3. **Mathematical Formulation:**\n",
    "   - Introduction to the inverse square law (similar to stellar Flux, which students have been introduced to in unit 1)\n",
    "   - The formula for gravitational force: $F = G \\frac{m_1 m_2}{r^2}$, where \\(F\\) is the gravitational force, \\(G\\) is the gravitational constant, \\(m_1\\) and \\(m_2\\) are the masses of two objects, and \\(r\\) is the distance between the centers of the two masses.\n",
    "   - Units and dimensions involved in the formula.\n",
    "   - Example problems and calculations to illustrate how the formula is applied.\n",
    "\n",
    "4. **Gravitational Constant (G):**\n",
    "   - Explanation of the gravitational constant \\(G\\).\n",
    "   - Historical measurements and experiments, such as those by Henry Cavendish.\n",
    "   - The value of \\(G\\) and its units.\n",
    "\n",
    "5. **Applications and Implications:**\n",
    "   - Gravity on Earth: weight, free fall, and projectile motion.\n",
    "   - Orbital motion: how gravity keeps planets in orbit around the Sun and moons in orbit around planets.\n",
    "   - Tides: the gravitational interaction between Earth, the Moon, and the Sun.\n",
    "   - Escape velocity and its calculation.\n",
    "\n",
    "\n",
    "## Sections of textbooks to read\n",
    "\n",
    "From \"An Introduction to Modern Astrophysics\": 2.2 Newtonian Mechanics:\n",
    "\n",
    "From \"Astronomy\": Chapter 3: ORBITS AND GRAVITY\n",
    "\n",
    "## Figures to use\n",
    "\n",
    "## Video"
   ]
  },
  {
   "cell_type": "code",
   "execution_count": null,
   "id": "6ac32a8e-8c8a-475c-bb47-91d20c19a294",
   "metadata": {},
   "outputs": [],
   "source": []
  },
  {
   "cell_type": "markdown",
   "id": "dbca4226-c7b6-492c-9759-69a45b1c3ff6",
   "metadata": {},
   "source": [
    "1. **Historical Context and Development:**\n",
    "   - Isaac Newton's biography and his contributions to science.\n",
    "   - The historical development of gravitational theory.\n",
    "   - How Newton's ideas built upon those of previous scientists such as Galileo and Kepler.\n",
    "\n",
    "2. **Conceptual Foundations:**\n",
    "   - Explanation of gravity as a universal force.\n",
    "   - The significance of Newton's realization that the same force that causes objects to fall on Earth also governs the motion of celestial bodies.\n",
    "\n",
    "3. **Mathematical Formulation:**\n",
    "   - Introduction to the inverse square law.\n",
    "   - The formula for gravitational force: $F = G \\frac{m_1 m_2}{r^2}$, where \\(F\\) is the gravitational force, \\(G\\) is the gravitational constant, \\(m_1\\) and \\(m_2\\) are the masses of two objects, and \\(r\\) is the distance between the centers of the two masses.\n",
    "   - Units and dimensions involved in the formula.\n",
    "   - Example problems and calculations to illustrate how the formula is applied.\n",
    "\n",
    "4. **Gravitational Constant (G):**\n",
    "   - Explanation of the gravitational constant \\(G\\).\n",
    "   - Historical measurements and experiments, such as those by Henry Cavendish.\n",
    "   - The value of \\(G\\) and its units.\n",
    "\n",
    "5. **Applications and Implications:**\n",
    "   - Gravity on Earth: weight, free fall, and projectile motion.\n",
    "   - Orbital motion: how gravity keeps planets in orbit around the Sun and moons in orbit around planets.\n",
    "   - Tides: the gravitational interaction between Earth, the Moon, and the Sun.\n",
    "   - Escape velocity and its calculation.\n"
   ]
  }
 ],
 "metadata": {
  "kernelspec": {
   "display_name": "Python 3 (ipykernel)",
   "language": "python",
   "name": "python3"
  },
  "language_info": {
   "codemirror_mode": {
    "name": "ipython",
    "version": 3
   },
   "file_extension": ".py",
   "mimetype": "text/x-python",
   "name": "python",
   "nbconvert_exporter": "python",
   "pygments_lexer": "ipython3",
   "version": "3.11.8"
  }
 },
 "nbformat": 4,
 "nbformat_minor": 5
}
