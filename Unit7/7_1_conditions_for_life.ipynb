{
 "cells": [
  {
   "cell_type": "markdown",
   "id": "0184c5fe",
   "metadata": {},
   "source": [
    "# 7.1 Conditions for Life"
   ]
  }
 ],
 "metadata": {},
 "nbformat": 4,
 "nbformat_minor": 5
}
