{
 "cells": [
  {
   "cell_type": "markdown",
   "id": "2acfa1a9",
   "metadata": {},
   "source": [
    "# 7.5 SETI"
   ]
  }
 ],
 "metadata": {},
 "nbformat": 4,
 "nbformat_minor": 5
}
