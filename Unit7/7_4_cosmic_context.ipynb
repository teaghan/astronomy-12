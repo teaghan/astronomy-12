{
 "cells": [
  {
   "cell_type": "markdown",
   "id": "14ebd080",
   "metadata": {},
   "source": [
    "# 7.4 The Cosmic Context for Life"
   ]
  }
 ],
 "metadata": {},
 "nbformat": 4,
 "nbformat_minor": 5
}
