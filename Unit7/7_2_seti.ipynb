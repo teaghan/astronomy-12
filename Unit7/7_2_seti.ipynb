{
 "cells": [
  {
   "cell_type": "markdown",
   "id": "8e316b5d",
   "metadata": {},
   "source": [
    "# 7.2 Search for Extraterrestrial Intelligence (SETI)"
   ]
  }
 ],
 "metadata": {},
 "nbformat": 4,
 "nbformat_minor": 5
}
