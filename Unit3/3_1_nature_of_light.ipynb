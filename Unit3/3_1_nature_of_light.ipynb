{
 "cells": [
  {
   "cell_type": "markdown",
   "id": "d6674ce5",
   "metadata": {},
   "source": [
    "# 3.1 Nature of Light"
   ]
  }
 ],
 "metadata": {},
 "nbformat": 4,
 "nbformat_minor": 5
}
