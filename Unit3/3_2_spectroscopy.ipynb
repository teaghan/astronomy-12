{
 "cells": [
  {
   "cell_type": "markdown",
   "id": "de325902",
   "metadata": {},
   "source": [
    "# 3.2 Spectroscopy in Astronomy"
   ]
  }
 ],
 "metadata": {},
 "nbformat": 4,
 "nbformat_minor": 5
}
