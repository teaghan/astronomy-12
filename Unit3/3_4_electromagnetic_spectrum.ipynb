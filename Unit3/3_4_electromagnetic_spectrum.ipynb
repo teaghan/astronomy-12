{
 "cells": [
  {
   "cell_type": "markdown",
   "id": "13c9b950",
   "metadata": {},
   "source": [
    "# 3.4 The Electromagnetic Spectrum"
   ]
  }
 ],
 "metadata": {},
 "nbformat": 4,
 "nbformat_minor": 5
}
