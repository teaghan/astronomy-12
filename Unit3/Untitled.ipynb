{
 "cells": [
  {
   "cell_type": "markdown",
   "id": "0a61b557-65c5-4396-b0c0-bb5721c469b3",
   "metadata": {},
   "source": [
    "## The Initial Mass Function (IMF)\n",
    "\n",
    "The initial mass function (IMF) describes the distribution of masses for a population of newly formed stars.\n",
    "\n",
    "**Distribution of Masses:**\n",
    "- **IMF**: Determines the relative numbers of low-mass, intermediate-mass, and high-mass stars.\n",
    "\n",
    "**Importance of the IMF:**\n",
    "- **Understanding Stellar Populations**: The IMF helps astronomers understand the formation and evolution of stars in galaxies.\n",
    "- **Galactic Evolution**: The IMF influences the chemical enrichment and dynamic evolution of galaxies.\n",
    "\n",
    "<img src=\"https://raw.githubusercontent.com/teaghan/astronomy-12/main/Unit3/figures/IMF.png\" alt=\"Initial Mass Function\" width=\"1000\" style=\"display: block; margin-left: auto; margin-right: auto;\">\n",
    "\n",
    "---\n",
    "\n",
    "## Star Formation in Different Environments\n",
    "\n",
    "Star formation can occur in various environments, from dense star clusters to more isolated regions. The environment significantly influences the star formation rate.\n",
    "\n",
    "- **Dense Star Clusters**: Stars form in close proximity, leading to frequent interactions.\n",
    "- **Isolated Regions**: Stars form individually or in small groups, leading to different evolutionary pathways.\n",
    "\n",
    "**Impact on Star Formation Rate:**\n",
    "- **Environmental Factors**: The density and temperature of the surrounding gas, as well as the presence of external forces, affect the rate at which stars form.\n"
   ]
  },
  {
   "cell_type": "code",
   "execution_count": 6,
   "id": "a5a80762-d811-4392-a00c-4d081579ad98",
   "metadata": {},
   "outputs": [
    {
     "data": {
      "text/plain": [
       "(49.5, 2500)"
      ]
     },
     "execution_count": 6,
     "metadata": {},
     "output_type": "execute_result"
    }
   ],
   "source": [
    "import numpy as np\n",
    "resid = 50\n",
    "delta = 1\n",
    "\n",
    "loss = delta*(np.abs(resid) - 0.5*delta)\n",
    "loss, resid**2"
   ]
  },
  {
   "cell_type": "code",
   "execution_count": 10,
   "id": "003998d4-81ef-4780-8af5-675b781b7dcd",
   "metadata": {},
   "outputs": [
    {
     "data": {
      "text/plain": [
       "2.241729e-12"
      ]
     },
     "execution_count": 10,
     "metadata": {},
     "output_type": "execute_result"
    }
   ],
   "source": [
    "0.015*1.66054e-27*(3e8)**2"
   ]
  },
  {
   "cell_type": "code",
   "execution_count": null,
   "id": "c7e1e4b5-3acb-4e65-adad-4b8be16a46e0",
   "metadata": {},
   "outputs": [],
   "source": []
  },
  {
   "cell_type": "code",
   "execution_count": null,
   "id": "22c71adc-1caa-490d-8174-32283879ebe4",
   "metadata": {},
   "outputs": [],
   "source": []
  }
 ],
 "metadata": {
  "kernelspec": {
   "display_name": "Python 3 (ipykernel)",
   "language": "python",
   "name": "python3"
  },
  "language_info": {
   "codemirror_mode": {
    "name": "ipython",
    "version": 3
   },
   "file_extension": ".py",
   "mimetype": "text/x-python",
   "name": "python",
   "nbconvert_exporter": "python",
   "pygments_lexer": "ipython3",
   "version": "3.11.9"
  }
 },
 "nbformat": 4,
 "nbformat_minor": 5
}
