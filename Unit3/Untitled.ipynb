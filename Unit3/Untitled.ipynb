{
 "cells": [
  {
   "cell_type": "markdown",
   "id": "0a61b557-65c5-4396-b0c0-bb5721c469b3",
   "metadata": {},
   "source": [
    "## The Initial Mass Function (IMF)\n",
    "\n",
    "The initial mass function (IMF) describes the distribution of masses for a population of newly formed stars.\n",
    "\n",
    "**Distribution of Masses:**\n",
    "- **IMF**: Determines the relative numbers of low-mass, intermediate-mass, and high-mass stars.\n",
    "\n",
    "**Importance of the IMF:**\n",
    "- **Understanding Stellar Populations**: The IMF helps astronomers understand the formation and evolution of stars in galaxies.\n",
    "- **Galactic Evolution**: The IMF influences the chemical enrichment and dynamic evolution of galaxies.\n",
    "\n",
    "<img src=\"https://raw.githubusercontent.com/teaghan/astronomy-12/main/Unit3/figures/IMF.png\" alt=\"Initial Mass Function\" width=\"1000\" style=\"display: block; margin-left: auto; margin-right: auto;\">\n",
    "\n",
    "---\n",
    "\n",
    "## Star Formation in Different Environments\n",
    "\n",
    "Star formation can occur in various environments, from dense star clusters to more isolated regions. The environment significantly influences the star formation rate.\n",
    "\n",
    "- **Dense Star Clusters**: Stars form in close proximity, leading to frequent interactions.\n",
    "- **Isolated Regions**: Stars form individually or in small groups, leading to different evolutionary pathways.\n",
    "\n",
    "**Impact on Star Formation Rate:**\n",
    "- **Environmental Factors**: The density and temperature of the surrounding gas, as well as the presence of external forces, affect the rate at which stars form.\n"
   ]
  },
  {
   "cell_type": "markdown",
   "id": "347eb116-e6f7-4a3f-92cd-eec280839796",
   "metadata": {},
   "source": [
    "### Case Study: Supernova 1987A\n",
    "\n",
    "Supernova 1987A (SN 1987A) offers a rare look at the final stages of massive stars. Discovered on February 24, 1987, in the Large Magellanic Cloud, it was the closest supernova observed in nearly 400 years, just 160,000 light-years away. The progenitor star, Sanduleak -69° 202, was a blue supergiant about 20 times the mass of the Sun.\n",
    "\n",
    "#### Stellar Evolution and the Supernova Event\n",
    "\n",
    "Sanduleak -69° 202 lived most of its life fusing hydrogen into helium as a main-sequence star, with a luminosity 60,000 times that of the Sun. After exhausting its hydrogen, it expanded into a red supergiant and later reverted to a blue supergiant before collapsing in a type II supernova. The explosion was powerful enough to outshine its entire galaxy for weeks, ejecting the star’s outer layers and creating an expanding shell of gas and dust.\n",
    "\n",
    "#### Observations and Legacy\n",
    "\n",
    "Post-explosion, the Hubble Space Telescope revealed a glowing ring of gas around SN 1987A, likely expelled during the star's red supergiant phase. The collision of the supernova shockwave with this ring provided stunning visuals and valuable data. Additionally, the detection of neutrinos confirmed theoretical models of core-collapse supernovae, providing direct evidence of neutron star formation.\n",
    "\n",
    "SN 1987A has greatly advanced our understanding of massive star life cycles, supernova mechanics, and nucleosynthesis—the formation of elements in stars. It remains a cornerstone in astrophysics, offering insights that continue to shape our knowledge of the cosmos.\n",
    "\n",
    "### Evolution of the Star That Exploded as SN 1987A\n",
    "\n",
    "| **Phase**          | **Central Temperature (K)** | **Central Density (g/cm³)** | **Time Spent in This Phase**   |\n",
    "|--------------------|-----------------------------|-----------------------------|--------------------------------|\n",
    "| Hydrogen fusion    | $40 \\times 10^6$            | 5                           | $8 \\times 10^6$ years          |\n",
    "| Helium fusion      | $190 \\times 10^6$           | 970                         | $10^6$ years                   |\n",
    "| Carbon fusion      | $870 \\times 10^6$           | $170,000$                   | 2000 years                     |\n",
    "| Neon fusion        | $1.6 \\times 10^9$           | $3.0 \\times 10^6$           | 6 months                       |\n",
    "| Oxygen fusion      | $2.0 \\times 10^9$           | $5.6 \\times 10^6$           | 1 year                         |\n",
    "| Silicon fusion     | $3.3 \\times 10^9$           | $4.3 \\times 10^7$           | Days                           |\n",
    "| Core collapse      | $200 \\times 10^9$           | $2 \\times 10^{14}$          | Tenths of a second             |"
   ]
  },
  {
   "cell_type": "code",
   "execution_count": null,
   "id": "22c71adc-1caa-490d-8174-32283879ebe4",
   "metadata": {},
   "outputs": [],
   "source": []
  }
 ],
 "metadata": {
  "kernelspec": {
   "display_name": "Python 3 (ipykernel)",
   "language": "python",
   "name": "python3"
  },
  "language_info": {
   "codemirror_mode": {
    "name": "ipython",
    "version": 3
   },
   "file_extension": ".py",
   "mimetype": "text/x-python",
   "name": "python",
   "nbconvert_exporter": "python",
   "pygments_lexer": "ipython3",
   "version": "3.11.9"
  }
 },
 "nbformat": 4,
 "nbformat_minor": 5
}
