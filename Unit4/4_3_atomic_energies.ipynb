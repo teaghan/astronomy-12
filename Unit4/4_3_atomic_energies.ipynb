{
 "cells": [
  {
   "cell_type": "markdown",
   "id": "94931741",
   "metadata": {},
   "source": [
    "# 4.3 Atomic Energies\n",
    "\n",
    "- **Model of the Atom**: Introduction to the structure of the atom, including the nucleus and electron orbits.\n",
    "- **Interaction of Electromagnetic Radiation with Atoms**: Explanation of how light interacts with atoms, leading to the absorption and emission of photons.\n",
    "- **Formation of Spectral Lines**: Understanding how spectral lines are formed through electronic transitions in atoms.\n",
    "- **Molecular Spectroscopy**: Brief introduction to molecular spectra and their role in studying interstellar gas clouds."
   ]
  },
  {
   "cell_type": "code",
   "execution_count": null,
   "id": "42f01b9d-4914-4d86-82fa-c3ceaf3fcbb8",
   "metadata": {},
   "outputs": [],
   "source": []
  }
 ],
 "metadata": {
  "kernelspec": {
   "display_name": "Python 3 (ipykernel)",
   "language": "python",
   "name": "python3"
  },
  "language_info": {
   "codemirror_mode": {
    "name": "ipython",
    "version": 3
   },
   "file_extension": ".py",
   "mimetype": "text/x-python",
   "name": "python",
   "nbconvert_exporter": "python",
   "pygments_lexer": "ipython3",
   "version": "3.11.9"
  }
 },
 "nbformat": 4,
 "nbformat_minor": 5
}
