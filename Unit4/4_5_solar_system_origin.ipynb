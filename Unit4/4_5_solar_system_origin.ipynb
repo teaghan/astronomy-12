{
 "cells": [
  {
   "cell_type": "markdown",
   "id": "fd2a366e",
   "metadata": {},
   "source": [
    "# 4.5 Origin of the Solar System"
   ]
  }
 ],
 "metadata": {},
 "nbformat": 4,
 "nbformat_minor": 5
}
