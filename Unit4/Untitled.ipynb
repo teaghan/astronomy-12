{
 "cells": [
  {
   "cell_type": "markdown",
   "id": "04915bef-925b-4915-8cd0-c329de8b68b4",
   "metadata": {},
   "source": [
    "https://github.com/jimmynewland/colabnotebooks/blob/main/Answers_Equivalent_Width_Spectroscopy_Lab.ipynb"
   ]
  },
  {
   "cell_type": "code",
   "execution_count": 1,
   "id": "8a8ee403-028b-47c3-9a2a-a54b26a419a5",
   "metadata": {},
   "outputs": [
    {
     "data": {
      "text/plain": [
       "7245.0"
      ]
     },
     "execution_count": 1,
     "metadata": {},
     "output_type": "execute_result"
    }
   ],
   "source": [
    "2.898e-3/4000e-10"
   ]
  },
  {
   "cell_type": "code",
   "execution_count": null,
   "id": "cac1300c-5231-4892-b289-0ddff07575ab",
   "metadata": {},
   "outputs": [],
   "source": []
  }
 ],
 "metadata": {
  "kernelspec": {
   "display_name": "Python 3 (ipykernel)",
   "language": "python",
   "name": "python3"
  },
  "language_info": {
   "codemirror_mode": {
    "name": "ipython",
    "version": 3
   },
   "file_extension": ".py",
   "mimetype": "text/x-python",
   "name": "python",
   "nbconvert_exporter": "python",
   "pygments_lexer": "ipython3",
   "version": "3.11.9"
  }
 },
 "nbformat": 4,
 "nbformat_minor": 5
}
