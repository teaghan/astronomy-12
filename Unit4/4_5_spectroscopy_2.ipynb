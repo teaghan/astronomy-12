{
 "cells": [
  {
   "cell_type": "markdown",
   "id": "be5db47e",
   "metadata": {},
   "source": [
    "# 4.5 Spectroscopy II: Applications of Spectroscopy\n",
    "\n",
    "- **Identifying Elements in Stars**: How spectroscopy is used to identify the chemical composition of stars.\n",
    "- **Measuring Stellar Velocities**: Discussion of the Doppler effect and how radial velocity measurements are used to study stellar motion and detect exoplanets.\n",
    "- **The Science of Spectroscopy**: Overview of line lists, catalogs of spectral lines, and how they are used in practical spectroscopic analysis.\n"
   ]
  },
  {
   "cell_type": "code",
   "execution_count": null,
   "id": "5e5eccab-17a9-4543-8219-31b8feb8695e",
   "metadata": {},
   "outputs": [],
   "source": []
  }
 ],
 "metadata": {
  "kernelspec": {
   "display_name": "Python 3 (ipykernel)",
   "language": "python",
   "name": "python3"
  },
  "language_info": {
   "codemirror_mode": {
    "name": "ipython",
    "version": 3
   },
   "file_extension": ".py",
   "mimetype": "text/x-python",
   "name": "python",
   "nbconvert_exporter": "python",
   "pygments_lexer": "ipython3",
   "version": "3.11.9"
  }
 },
 "nbformat": 4,
 "nbformat_minor": 5
}
