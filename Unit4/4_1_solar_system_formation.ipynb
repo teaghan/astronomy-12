{
 "cells": [
  {
   "cell_type": "markdown",
   "id": "f465a3ab",
   "metadata": {},
   "source": [
    "# 4.1 Formation of the Solar System"
   ]
  }
 ],
 "metadata": {},
 "nbformat": 4,
 "nbformat_minor": 5
}
