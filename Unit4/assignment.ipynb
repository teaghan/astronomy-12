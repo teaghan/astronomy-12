{
 "cells": [
  {
   "cell_type": "code",
   "execution_count": null,
   "id": "5d457e4a-3985-4b44-9c87-b52aba74c6a3",
   "metadata": {},
   "outputs": [],
   "source": [
    "https://github.com/jimmynewland/colabnotebooks/blob/main/Answers_Equivalent_Width_Spectroscopy_Lab.ipynb"
   ]
  }
 ],
 "metadata": {
  "kernelspec": {
   "display_name": "Python 3 (ipykernel)",
   "language": "python",
   "name": "python3"
  },
  "language_info": {
   "codemirror_mode": {
    "name": "ipython",
    "version": 3
   },
   "file_extension": ".py",
   "mimetype": "text/x-python",
   "name": "python",
   "nbconvert_exporter": "python",
   "pygments_lexer": "ipython3",
   "version": "3.11.9"
  }
 },
 "nbformat": 4,
 "nbformat_minor": 5
}
