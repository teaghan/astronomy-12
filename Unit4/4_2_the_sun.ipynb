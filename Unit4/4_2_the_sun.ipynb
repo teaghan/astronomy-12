{
 "cells": [
  {
   "cell_type": "markdown",
   "id": "756d2791",
   "metadata": {},
   "source": [
    "# 4.2 The Sun"
   ]
  }
 ],
 "metadata": {},
 "nbformat": 4,
 "nbformat_minor": 5
}
