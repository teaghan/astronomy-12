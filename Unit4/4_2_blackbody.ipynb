{
 "cells": [
  {
   "cell_type": "markdown",
   "id": "de325902",
   "metadata": {},
   "source": [
    "# 4.2 Blackbody Radiation\n",
    "\n",
    "- **Planck’s Law and Spectrum**: Description of the spectrum of radiation emitted by a blackbody.\n",
    "- **Wien’s Displacement Law**: Relating temperature to the peak wavelength of blackbody radiation.\n",
    "- **Stefan-Boltzmann Law**: Explaining the total energy radiated per unit surface area in relation to temperature.\n",
    "- **Color Indices and Stellar Classification**: Overview of how color indices help classify stars based on temperature and color."
   ]
  },
  {
   "cell_type": "code",
   "execution_count": null,
   "id": "8e3ef17e-f30e-42a4-ab07-407eb9689a12",
   "metadata": {},
   "outputs": [],
   "source": []
  }
 ],
 "metadata": {
  "kernelspec": {
   "display_name": "Python 3 (ipykernel)",
   "language": "python",
   "name": "python3"
  },
  "language_info": {
   "codemirror_mode": {
    "name": "ipython",
    "version": 3
   },
   "file_extension": ".py",
   "mimetype": "text/x-python",
   "name": "python",
   "nbconvert_exporter": "python",
   "pygments_lexer": "ipython3",
   "version": "3.11.9"
  }
 },
 "nbformat": 4,
 "nbformat_minor": 5
}
