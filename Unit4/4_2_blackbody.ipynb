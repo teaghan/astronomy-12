{
 "cells": [
  {
   "cell_type": "markdown",
   "id": "de325902",
   "metadata": {},
   "source": [
    "# 4.2 Blackbody Radiation\n",
    "\n",
    "- **Planck’s Law and Spectrum**: Description of the spectrum of radiation emitted by a blackbody.\n",
    "- **Wien’s Displacement Law**: Relating temperature to the peak wavelength of blackbody radiation.\n",
    "- **Stefan-Boltzmann Law**: Explaining the total energy radiated per unit surface area in relation to temperature.\n",
    "- **Color Indices and Stellar Classification**: Overview of how color indices help classify stars based on temperature and color."
   ]
  },
  {
   "cell_type": "markdown",
   "id": "88f047e1-48b1-4a35-8998-3dc6cc1cf764",
   "metadata": {},
   "source": [
    "<iframe src=\"https://phet.colorado.edu/sims/html/blackbody-spectrum/latest/blackbody-spectrum_en.html\"\n",
    "        width=\"800\"\n",
    "        height=\"600\"\n",
    "        allowfullscreen>\n",
    "</iframe>"
   ]
  },
  {
   "cell_type": "markdown",
   "id": "8b734235-3ca8-4a39-a426-d7bb3e33208d",
   "metadata": {},
   "source": [
    "video: https://www.youtube.com/watch?v=XdXAdwb7loE"
   ]
  },
  {
   "cell_type": "code",
   "execution_count": null,
   "id": "22c72c5d-800a-4383-b4a3-1b16cd11f66c",
   "metadata": {},
   "outputs": [],
   "source": []
  }
 ],
 "metadata": {
  "kernelspec": {
   "display_name": "Python 3 (ipykernel)",
   "language": "python",
   "name": "python3"
  },
  "language_info": {
   "codemirror_mode": {
    "name": "ipython",
    "version": 3
   },
   "file_extension": ".py",
   "mimetype": "text/x-python",
   "name": "python",
   "nbconvert_exporter": "python",
   "pygments_lexer": "ipython3",
   "version": "3.11.9"
  }
 },
 "nbformat": 4,
 "nbformat_minor": 5
}
