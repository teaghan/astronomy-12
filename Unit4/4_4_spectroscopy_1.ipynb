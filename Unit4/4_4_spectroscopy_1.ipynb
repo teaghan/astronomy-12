{
 "cells": [
  {
   "cell_type": "markdown",
   "id": "13c9b950",
   "metadata": {},
   "source": [
    "# 4.4 Spectroscopy I: Principles of Spectroscopy\n",
    "\n",
    "- **Absorption and Emission Spectra**: Exploring how and why absorption and emission spectra are produced in different astrophysical environments.\n",
    "- **Kirchhoff's Laws of Spectroscopy**: Explanation of Kirchhoff's laws and their applications to continuous spectra, emission lines, and absorption lines.\n",
    "- **Spectral Line Broadening**: Discussing different mechanisms of line broadening (e.g., Doppler broadening) and their significance in astronomy.\n"
   ]
  }
 ],
 "metadata": {
  "kernelspec": {
   "display_name": "Python 3 (ipykernel)",
   "language": "python",
   "name": "python3"
  },
  "language_info": {
   "codemirror_mode": {
    "name": "ipython",
    "version": 3
   },
   "file_extension": ".py",
   "mimetype": "text/x-python",
   "name": "python",
   "nbconvert_exporter": "python",
   "pygments_lexer": "ipython3",
   "version": "3.11.9"
  }
 },
 "nbformat": 4,
 "nbformat_minor": 5
}
