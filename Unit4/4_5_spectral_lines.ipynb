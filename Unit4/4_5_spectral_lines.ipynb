{
 "cells": [
  {
   "cell_type": "markdown",
   "id": "be5db47e",
   "metadata": {},
   "source": [
    "# 3.5 Formation of Spectral Lines"
   ]
  }
 ],
 "metadata": {},
 "nbformat": 4,
 "nbformat_minor": 5
}
