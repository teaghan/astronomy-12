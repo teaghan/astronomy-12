{
 "cells": [
  {
   "cell_type": "markdown",
   "id": "68ed6ecd",
   "metadata": {},
   "source": [
    "# 6.1 Types of Galaxies"
   ]
  }
 ],
 "metadata": {},
 "nbformat": 4,
 "nbformat_minor": 5
}
