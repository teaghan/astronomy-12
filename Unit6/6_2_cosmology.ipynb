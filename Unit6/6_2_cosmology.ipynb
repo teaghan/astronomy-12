{
 "cells": [
  {
   "cell_type": "markdown",
   "id": "faace247",
   "metadata": {},
   "source": [
    "# 6.2 Cosmology"
   ]
  }
 ],
 "metadata": {},
 "nbformat": 4,
 "nbformat_minor": 5
}
